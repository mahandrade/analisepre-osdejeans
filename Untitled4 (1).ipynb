{
  "nbformat": 4,
  "nbformat_minor": 0,
  "metadata": {
    "colab": {
      "name": "Untitled4.ipynb",
      "provenance": [],
      "collapsed_sections": []
    },
    "kernelspec": {
      "name": "python3",
      "display_name": "Python 3"
    },
    "language_info": {
      "name": "python"
    }
  },
  "cells": [
    {
      "cell_type": "code",
      "execution_count": 71,
      "metadata": {
        "id": "6eZf3M1RSb1W"
      },
      "outputs": [],
      "source": [
        ""
      ]
    },
    {
      "cell_type": "code",
      "source": [
        ""
      ],
      "metadata": {
        "id": "EhwC0uQW0tRN"
      },
      "execution_count": 71,
      "outputs": []
    },
    {
      "cell_type": "markdown",
      "source": [
        "**Extração de Dados em HTML**\n",
        "\n",
        "\n",
        "**Questão de Negócio**\n",
        "\n",
        "\n",
        " A empresa Star Jeans! Eduardo e Marcelo são dois brasileiros, amigos e sócios de empreendi\u0002mento. Depois de vários negócio bem sucedidos, eles estão planejando entrar no mercado de moda\n",
        "dos USA como um modelo de negócio do tipo E-commerce.\n",
        "\n",
        "A idéia inicial é entrar no mercado com apenas um produto e para um público específico, no caso\n",
        "o produto seria calças Jenas para o público masculino.O objetivo é manter o custo de operação baixo e escalar a medida que forem conseguindo clientes.\n",
        "Porém, mesmo com o produto de entrada e a audiência definidos, os dois sócios não tem experiência nesse mercado de moda e portanto não sabem definir coisas básicas como preço, o tipo de calça e o material para a fabricação de cada peça.\n",
        "Assim, os dois sócios contrataram uma consultoria de Ciência de Dados para responder as seguintes perguntas: \n",
        "1. Qual o melhor preço de venda para as calças? \n",
        "2. Quantos tipos de calças e suas cores para o produto inicial? \n",
        "3. Quais as matérias-prima necessárias para confeccionar as calças?\n",
        "\n",
        "**As principais concorrentes da empresa Start Jeans são as americadas H&M e Macys.**\n"
      ],
      "metadata": {
        "id": "CeZKKJPYmXlb"
      }
    },
    {
      "cell_type": "markdown",
      "source": [
        "**O método SAPE**"
      ],
      "metadata": {
        "id": "-LT8niVLSmp-"
      }
    },
    {
      "cell_type": "code",
      "source": [
        "1. Qual o melhor preço de venda para as calças?\n",
        "\n",
        "2. Quantos tipos de calças e suas cores para o produto inicial?\n",
        "\n",
        "3. Quais as materias primas necessarias para confeccionar as calças?\n",
        "\n",
        "\n",
        "\n",
        "Saída ( o produto final)\n",
        "# responder a pergunta\n",
        "- mediana dos valores dos produtos dos sites dos concorrentes\n",
        "\n",
        "#formato\n",
        "- tabela ou graficos\n",
        "\n",
        "#local de entrega\n",
        " - app ou streamlit\n",
        "- calcular a resposta\n",
        "- mediana do preço,por categoria e tipo\n",
        "\n",
        "como será o grafico ou tabela final?\n",
        "- simulação de tabela final\n",
        "\n",
        "\n",
        "Processo ( passo a passo )\n",
        "- como vou entregar \n",
        "-dashboard em um app no streamlit e publicar no heroku\n",
        "\n",
        "\n",
        "1. Passo a passso para construir o cálculo da mediana ou média\n",
        "- Realizar o calculo da mediana sobre o produto, tipo e cor\n",
        "\n",
        "2. Definir o formato da entrega ( Visualização, Tabela, Frase )\n",
        "- Gráfico de barras com a mediana dos preço dos produtos, por tipo e cor dos últimos 30 dias.\n",
        "- Tabela com as seguintes colunas: id | product_name | product_type | product_color | product_price\n",
        "- Definição do schema: Colunas e seu tipo\n",
        "- Definição a infraestrutura de armazenamento ( SQLITE3 )\n",
        "- Design do ETL ( Scripts de Extração, Transformação e Carga )\n",
        "- Planejamento de Agendamento dos scripts ( dependencias entre os scripts )\n",
        "- Fazer as visualizações\n",
        "- Entrega do produto final\n",
        "\n",
        "\n",
        "\n",
        "Entradas ( fontes de dados )\n",
        "\n",
        "1. H&M: https://www2.hm.com/en_us/men/products/jeans.html\n",
        "2. Macys: https://www.macys.com/shop/mens-clothing/mens-jeans\n",
        "\n",
        "\n"
      ],
      "metadata": {
        "id": "Fty7a8WdSilZ",
        "colab": {
          "base_uri": "https://localhost:8080/",
          "height": 130
        },
        "outputId": "0bcc4b50-3f34-4459-ec29-22f78e9435a8"
      },
      "execution_count": 72,
      "outputs": [
        {
          "output_type": "error",
          "ename": "SyntaxError",
          "evalue": "ignored",
          "traceback": [
            "\u001b[0;36m  File \u001b[0;32m\"<ipython-input-72-70c37dcb284e>\"\u001b[0;36m, line \u001b[0;32m9\u001b[0m\n\u001b[0;31m    Saída ( o produto final)\u001b[0m\n\u001b[0m                    ^\u001b[0m\n\u001b[0;31mSyntaxError\u001b[0m\u001b[0;31m:\u001b[0m invalid syntax\n"
          ]
        }
      ]
    },
    {
      "cell_type": "code",
      "source": [
        "import requests\n",
        "from bs4 import BeautifulSoup\n",
        "import pandas as pd\n",
        "from datetime import datetime\n",
        "import numpy as np"
      ],
      "metadata": {
        "id": "AarSe_MCZV4K"
      },
      "execution_count": 358,
      "outputs": []
    },
    {
      "cell_type": "code",
      "source": [
        "url= ' https://www2.hm.com/en_ca/men/shop-by-product/jeans.html'\n",
        "\n",
        "headers = {'User-Agent': 'Mozilla/5.0 (Windows NT 10.0; Win64; x64) AppleWebKit/537.36 (KHTML, like Gecko) Chrome/98.0.4758.102 Safari/537.36'}\n",
        "\n",
        "page = requests.get( url, headers=headers )\n",
        "\n"
      ],
      "metadata": {
        "id": "KAJ6ngeWWnve"
      },
      "execution_count": 359,
      "outputs": []
    },
    {
      "cell_type": "code",
      "source": [
        "soup =  BeautifulSoup( page.text, 'html.parser')"
      ],
      "metadata": {
        "id": "OEaEhk9zZgtA"
      },
      "execution_count": 360,
      "outputs": []
    },
    {
      "cell_type": "code",
      "source": [
        "product = soup.find( 'ul', class_='products-listing small' )"
      ],
      "metadata": {
        "id": "C345da4NFFif"
      },
      "execution_count": 361,
      "outputs": []
    },
    {
      "cell_type": "code",
      "source": [
        "product_list = product.find_all('article', class_= 'hm-product-item')\n",
        "\n",
        "#len ( product_list ) saber a quantidade\n",
        "\n",
        "#product_list[0].get( 'data-articlecode')\n",
        "\n",
        "# product id\n",
        "product_id = [p.get( 'data-articlecode' ) for p in product_list]\n",
        "\n",
        "\n",
        "\n",
        "product_category = [p.get('data-category')for p in product_list]\n",
        "\n",
        "\n",
        "product_list = product.find_all( 'a', class_='link' )\n",
        "product_name = [p.get_text() for p in product_list]\n",
        "\n",
        "\n",
        "product_list = product.find_all( 'span', class_='price regular' )\n",
        "product_price = [p.get_text() for p in product_list]\n",
        "\n"
      ],
      "metadata": {
        "id": "FLRPjj2ab1AC"
      },
      "execution_count": 362,
      "outputs": []
    },
    {
      "cell_type": "code",
      "source": [
        "data = pd.DataFrame( [product_id, product_category, product_name, product_price] ).T\n",
        "\n",
        "\n",
        "data.columns = ['product_id', 'product_category', 'product_name','product_price']\n",
        "\n"
      ],
      "metadata": {
        "id": "J1T4eAskD-Dw"
      },
      "execution_count": 363,
      "outputs": []
    },
    {
      "cell_type": "code",
      "source": [
        "data['scrapy_datetime'] = datetime.now().strftime( '%Y-%m-%d %H:%M:%S' )\n"
      ],
      "metadata": {
        "id": "F1MGrAobfETQ"
      },
      "execution_count": 366,
      "outputs": []
    },
    {
      "cell_type": "code",
      "source": [
        "data.head()"
      ],
      "metadata": {
        "colab": {
          "base_uri": "https://localhost:8080/",
          "height": 206
        },
        "id": "F7XrSZ69fITg",
        "outputId": "94d9af53-75a2-45b6-d69c-5dd57971f71c"
      },
      "execution_count": 367,
      "outputs": [
        {
          "output_type": "execute_result",
          "data": {
            "text/html": [
              "\n",
              "  <div id=\"df-ed84d6c1-a1c2-4bad-9be2-2b3172442186\">\n",
              "    <div class=\"colab-df-container\">\n",
              "      <div>\n",
              "<style scoped>\n",
              "    .dataframe tbody tr th:only-of-type {\n",
              "        vertical-align: middle;\n",
              "    }\n",
              "\n",
              "    .dataframe tbody tr th {\n",
              "        vertical-align: top;\n",
              "    }\n",
              "\n",
              "    .dataframe thead th {\n",
              "        text-align: right;\n",
              "    }\n",
              "</style>\n",
              "<table border=\"1\" class=\"dataframe\">\n",
              "  <thead>\n",
              "    <tr style=\"text-align: right;\">\n",
              "      <th></th>\n",
              "      <th>product_id</th>\n",
              "      <th>product_category</th>\n",
              "      <th>product_name</th>\n",
              "      <th>product_price</th>\n",
              "      <th>scrapy_datetime</th>\n",
              "    </tr>\n",
              "  </thead>\n",
              "  <tbody>\n",
              "    <tr>\n",
              "      <th>0</th>\n",
              "      <td>1024256001</td>\n",
              "      <td>men_jeans_slim</td>\n",
              "      <td>Slim Jeans</td>\n",
              "      <td>$24.99</td>\n",
              "      <td>2022-03-08 21:17:59</td>\n",
              "    </tr>\n",
              "    <tr>\n",
              "      <th>1</th>\n",
              "      <td>0979945001</td>\n",
              "      <td>men_jeans_loose</td>\n",
              "      <td>Loose Jeans</td>\n",
              "      <td>$39.99</td>\n",
              "      <td>2022-03-08 21:17:59</td>\n",
              "    </tr>\n",
              "    <tr>\n",
              "      <th>2</th>\n",
              "      <td>1008110001</td>\n",
              "      <td>men_jeans_slim</td>\n",
              "      <td>Freefit® Slim Jeans</td>\n",
              "      <td>$64.99</td>\n",
              "      <td>2022-03-08 21:17:59</td>\n",
              "    </tr>\n",
              "    <tr>\n",
              "      <th>3</th>\n",
              "      <td>1027852007</td>\n",
              "      <td>men_jeans_relaxed</td>\n",
              "      <td>Relaxed Denim Joggers</td>\n",
              "      <td>$39.99</td>\n",
              "      <td>2022-03-08 21:17:59</td>\n",
              "    </tr>\n",
              "    <tr>\n",
              "      <th>4</th>\n",
              "      <td>1008549006</td>\n",
              "      <td>men_jeans_regular</td>\n",
              "      <td>Regular Jeans</td>\n",
              "      <td>$24.99</td>\n",
              "      <td>2022-03-08 21:17:59</td>\n",
              "    </tr>\n",
              "  </tbody>\n",
              "</table>\n",
              "</div>\n",
              "      <button class=\"colab-df-convert\" onclick=\"convertToInteractive('df-ed84d6c1-a1c2-4bad-9be2-2b3172442186')\"\n",
              "              title=\"Convert this dataframe to an interactive table.\"\n",
              "              style=\"display:none;\">\n",
              "        \n",
              "  <svg xmlns=\"http://www.w3.org/2000/svg\" height=\"24px\"viewBox=\"0 0 24 24\"\n",
              "       width=\"24px\">\n",
              "    <path d=\"M0 0h24v24H0V0z\" fill=\"none\"/>\n",
              "    <path d=\"M18.56 5.44l.94 2.06.94-2.06 2.06-.94-2.06-.94-.94-2.06-.94 2.06-2.06.94zm-11 1L8.5 8.5l.94-2.06 2.06-.94-2.06-.94L8.5 2.5l-.94 2.06-2.06.94zm10 10l.94 2.06.94-2.06 2.06-.94-2.06-.94-.94-2.06-.94 2.06-2.06.94z\"/><path d=\"M17.41 7.96l-1.37-1.37c-.4-.4-.92-.59-1.43-.59-.52 0-1.04.2-1.43.59L10.3 9.45l-7.72 7.72c-.78.78-.78 2.05 0 2.83L4 21.41c.39.39.9.59 1.41.59.51 0 1.02-.2 1.41-.59l7.78-7.78 2.81-2.81c.8-.78.8-2.07 0-2.86zM5.41 20L4 18.59l7.72-7.72 1.47 1.35L5.41 20z\"/>\n",
              "  </svg>\n",
              "      </button>\n",
              "      \n",
              "  <style>\n",
              "    .colab-df-container {\n",
              "      display:flex;\n",
              "      flex-wrap:wrap;\n",
              "      gap: 12px;\n",
              "    }\n",
              "\n",
              "    .colab-df-convert {\n",
              "      background-color: #E8F0FE;\n",
              "      border: none;\n",
              "      border-radius: 50%;\n",
              "      cursor: pointer;\n",
              "      display: none;\n",
              "      fill: #1967D2;\n",
              "      height: 32px;\n",
              "      padding: 0 0 0 0;\n",
              "      width: 32px;\n",
              "    }\n",
              "\n",
              "    .colab-df-convert:hover {\n",
              "      background-color: #E2EBFA;\n",
              "      box-shadow: 0px 1px 2px rgba(60, 64, 67, 0.3), 0px 1px 3px 1px rgba(60, 64, 67, 0.15);\n",
              "      fill: #174EA6;\n",
              "    }\n",
              "\n",
              "    [theme=dark] .colab-df-convert {\n",
              "      background-color: #3B4455;\n",
              "      fill: #D2E3FC;\n",
              "    }\n",
              "\n",
              "    [theme=dark] .colab-df-convert:hover {\n",
              "      background-color: #434B5C;\n",
              "      box-shadow: 0px 1px 3px 1px rgba(0, 0, 0, 0.15);\n",
              "      filter: drop-shadow(0px 1px 2px rgba(0, 0, 0, 0.3));\n",
              "      fill: #FFFFFF;\n",
              "    }\n",
              "  </style>\n",
              "\n",
              "      <script>\n",
              "        const buttonEl =\n",
              "          document.querySelector('#df-ed84d6c1-a1c2-4bad-9be2-2b3172442186 button.colab-df-convert');\n",
              "        buttonEl.style.display =\n",
              "          google.colab.kernel.accessAllowed ? 'block' : 'none';\n",
              "\n",
              "        async function convertToInteractive(key) {\n",
              "          const element = document.querySelector('#df-ed84d6c1-a1c2-4bad-9be2-2b3172442186');\n",
              "          const dataTable =\n",
              "            await google.colab.kernel.invokeFunction('convertToInteractive',\n",
              "                                                     [key], {});\n",
              "          if (!dataTable) return;\n",
              "\n",
              "          const docLinkHtml = 'Like what you see? Visit the ' +\n",
              "            '<a target=\"_blank\" href=https://colab.research.google.com/notebooks/data_table.ipynb>data table notebook</a>'\n",
              "            + ' to learn more about interactive tables.';\n",
              "          element.innerHTML = '';\n",
              "          dataTable['output_type'] = 'display_data';\n",
              "          await google.colab.output.renderOutput(dataTable, element);\n",
              "          const docLink = document.createElement('div');\n",
              "          docLink.innerHTML = docLinkHtml;\n",
              "          element.appendChild(docLink);\n",
              "        }\n",
              "      </script>\n",
              "    </div>\n",
              "  </div>\n",
              "  "
            ],
            "text/plain": [
              "   product_id   product_category           product_name product_price  \\\n",
              "0  1024256001     men_jeans_slim             Slim Jeans        $24.99   \n",
              "1  0979945001    men_jeans_loose            Loose Jeans        $39.99   \n",
              "2  1008110001     men_jeans_slim    Freefit® Slim Jeans        $64.99   \n",
              "3  1027852007  men_jeans_relaxed  Relaxed Denim Joggers        $39.99   \n",
              "4  1008549006  men_jeans_regular          Regular Jeans        $24.99   \n",
              "\n",
              "       scrapy_datetime  \n",
              "0  2022-03-08 21:17:59  \n",
              "1  2022-03-08 21:17:59  \n",
              "2  2022-03-08 21:17:59  \n",
              "3  2022-03-08 21:17:59  \n",
              "4  2022-03-08 21:17:59  "
            ]
          },
          "metadata": {},
          "execution_count": 367
        }
      ]
    },
    {
      "cell_type": "code",
      "source": [
        " #horario da coleta de dados\n",
        " \n",
        " datetime.now().strftime( '%Y-%m-%d %H:%M:%S' )\n",
        " "
      ],
      "metadata": {
        "colab": {
          "base_uri": "https://localhost:8080/",
          "height": 35
        },
        "id": "OW-C9TazkDw_",
        "outputId": "0056fc64-c923-4054-af0a-a257a3588bbe"
      },
      "execution_count": 81,
      "outputs": [
        {
          "output_type": "execute_result",
          "data": {
            "application/vnd.google.colaboratory.intrinsic+json": {
              "type": "string"
            },
            "text/plain": [
              "'2022-03-08 15:22:15'"
            ]
          },
          "metadata": {},
          "execution_count": 81
        }
      ]
    },
    {
      "cell_type": "code",
      "source": [
        "#product_price"
      ],
      "metadata": {
        "id": "MpcLW0yrebEO"
      },
      "execution_count": null,
      "outputs": []
    },
    {
      "cell_type": "code",
      "source": [
        "product = soup.find('ul', class_= 'products-listing small') \n",
        "#find serve para o primeiro elemento"
      ],
      "metadata": {
        "id": "cJ9a-AoFaHnk"
      },
      "execution_count": 82,
      "outputs": []
    },
    {
      "cell_type": "code",
      "source": [
        "url= ' https://www2.hm.com/en_ca/men/shop-by-product/jeans.html'\n",
        "\n",
        "headers = {'User-Agent': 'Mozilla/5.0 (Windows NT 10.0; Win64; x64) AppleWebKit/537.36 (KHTML, like Gecko) Chrome/98.0.4758.102 Safari/537.36'}\n",
        "\n",
        "page = requests.get( url, headers=headers )\n"
      ],
      "metadata": {
        "id": "q1hcnD3SaJ3u"
      },
      "execution_count": 368,
      "outputs": []
    },
    {
      "cell_type": "code",
      "source": [
        "soup =  BeautifulSoup( page.text, 'html.parser')"
      ],
      "metadata": {
        "id": "3ACuutC18wdf"
      },
      "execution_count": 369,
      "outputs": []
    },
    {
      "cell_type": "code",
      "source": [
        "total_item = soup.find_all( 'h2', class_='load-more-heading' )[0].get('data-total')\n",
        "total_item\n"
      ],
      "metadata": {
        "colab": {
          "base_uri": "https://localhost:8080/",
          "height": 35
        },
        "id": "1gbnD9EN83uV",
        "outputId": "2c3cf5ac-7fcb-4f61-d770-8aea8e66c0c7"
      },
      "execution_count": 370,
      "outputs": [
        {
          "output_type": "execute_result",
          "data": {
            "application/vnd.google.colaboratory.intrinsic+json": {
              "type": "string"
            },
            "text/plain": [
              "'86'"
            ]
          },
          "metadata": {},
          "execution_count": 370
        }
      ]
    },
    {
      "cell_type": "code",
      "source": [
        "page_number = np.round( int( total_item ) / 36 )\n",
        "page_number"
      ],
      "metadata": {
        "colab": {
          "base_uri": "https://localhost:8080/"
        },
        "id": "ho5778qn9hkX",
        "outputId": "25fa88e1-b12a-4e70-bb3e-99178245eaad"
      },
      "execution_count": 371,
      "outputs": [
        {
          "output_type": "execute_result",
          "data": {
            "text/plain": [
              "2.0"
            ]
          },
          "metadata": {},
          "execution_count": 371
        }
      ]
    },
    {
      "cell_type": "code",
      "source": [
        " url02 = url + '?page-size=' + str( int( page_number*36 ) )\n",
        "url02"
      ],
      "metadata": {
        "colab": {
          "base_uri": "https://localhost:8080/",
          "height": 35
        },
        "id": "wvUsZGJ1-IG1",
        "outputId": "ee033a47-9d69-48a9-83ad-929d939cd5e8"
      },
      "execution_count": 372,
      "outputs": [
        {
          "output_type": "execute_result",
          "data": {
            "application/vnd.google.colaboratory.intrinsic+json": {
              "type": "string"
            },
            "text/plain": [
              "' https://www2.hm.com/en_ca/men/shop-by-product/jeans.html?page-size=72'"
            ]
          },
          "metadata": {},
          "execution_count": 372
        }
      ]
    },
    {
      "cell_type": "markdown",
      "source": [
        "parte 3\n"
      ],
      "metadata": {
        "id": "FPiwZ7cBDb_d"
      }
    },
    {
      "cell_type": "code",
      "source": [
        "import requests\n",
        "from bs4 import BeautifulSoup\n",
        "import pandas as pd\n",
        "from datetime import datetime\n",
        "import numpy as np"
      ],
      "metadata": {
        "id": "e45sOcYMDbiH"
      },
      "execution_count": 373,
      "outputs": []
    },
    {
      "cell_type": "markdown",
      "source": [
        "fazer para apenas um produto\n"
      ],
      "metadata": {
        "id": "_tHwkDMzHOcF"
      }
    },
    {
      "cell_type": "code",
      "source": [
        "url= 'https://www2.hm.com/en_ca/productpage.1024256001.html'\n",
        "\n",
        "headers = {'User-Agent': 'Mozilla/5.0 (Windows NT 10.0; Win64; x64) AppleWebKit/537.36 (KHTML, like Gecko) Chrome/98.0.4758.102 Safari/537.36'}\n",
        "\n",
        "page = requests.get( url, headers=headers )\n",
        "\n"
      ],
      "metadata": {
        "id": "ZixryzFmDiB2"
      },
      "execution_count": 374,
      "outputs": []
    },
    {
      "cell_type": "code",
      "source": [
        "soup = BeautifulSoup( page.text, 'html.parser' )"
      ],
      "metadata": {
        "id": "DeGZcgS9Glt2"
      },
      "execution_count": 375,
      "outputs": []
    },
    {
      "cell_type": "code",
      "source": [
        "#color name"
      ],
      "metadata": {
        "id": "87fwgV4gH9au"
      },
      "execution_count": 376,
      "outputs": []
    },
    {
      "cell_type": "markdown",
      "source": [
        ""
      ],
      "metadata": {
        "id": "1A6skP7XKHJS"
      }
    },
    {
      "cell_type": "code",
      "source": [
        "list( filter( None, p.get_text().split( '\\n' ) ) )"
      ],
      "metadata": {
        "id": "73Gr3BLgnjLT",
        "colab": {
          "base_uri": "https://localhost:8080/",
          "height": 165
        },
        "outputId": "77d19691-1c28-4f50-f262-9bd83df0d507"
      },
      "execution_count": 377,
      "outputs": [
        {
          "output_type": "error",
          "ename": "NameError",
          "evalue": "ignored",
          "traceback": [
            "\u001b[0;31m---------------------------------------------------------------------------\u001b[0m",
            "\u001b[0;31mNameError\u001b[0m                                 Traceback (most recent call last)",
            "\u001b[0;32m<ipython-input-377-f8221c300660>\u001b[0m in \u001b[0;36m<module>\u001b[0;34m()\u001b[0m\n\u001b[0;32m----> 1\u001b[0;31m \u001b[0mlist\u001b[0m\u001b[0;34m(\u001b[0m \u001b[0mfilter\u001b[0m\u001b[0;34m(\u001b[0m \u001b[0;32mNone\u001b[0m\u001b[0;34m,\u001b[0m \u001b[0mp\u001b[0m\u001b[0;34m.\u001b[0m\u001b[0mget_text\u001b[0m\u001b[0;34m(\u001b[0m\u001b[0;34m)\u001b[0m\u001b[0;34m.\u001b[0m\u001b[0msplit\u001b[0m\u001b[0;34m(\u001b[0m \u001b[0;34m'\\n'\u001b[0m \u001b[0;34m)\u001b[0m \u001b[0;34m)\u001b[0m \u001b[0;34m)\u001b[0m\u001b[0;34m\u001b[0m\u001b[0;34m\u001b[0m\u001b[0m\n\u001b[0m",
            "\u001b[0;31mNameError\u001b[0m: name 'p' is not defined"
          ]
        }
      ]
    },
    {
      "cell_type": "code",
      "source": [
        "product_list = soup.find_all('a', role='radio')\n",
        "color_name = [p.get( 'data-color' ) for p in product_list]\n",
        "\n",
        "\n",
        "# product id\n",
        "product_id = [p.get( 'data-articlecode' ) for p in product_list]\n",
        "\n",
        "\n",
        "df_color = pd.DataFrame( [product_id, color_name] ).T\n",
        "df_color.columns = ['product_id', 'color_name']\n",
        "\n",
        "\n",
        "# generate style id + color id\n",
        "df_color['style_id'] = df_color['product_id'].apply( lambda x: x[:-3] )\n",
        "df_color['color_id'] = df_color['product_id'].apply( lambda x: x[-3:] )"
      ],
      "metadata": {
        "id": "l2v50YhvLNXR"
      },
      "execution_count": 378,
      "outputs": []
    },
    {
      "cell_type": "code",
      "source": [
        "#parte 2"
      ],
      "metadata": {
        "id": "RobwTDLoVz1J"
      },
      "execution_count": 95,
      "outputs": []
    },
    {
      "cell_type": "code",
      "source": [
        "#df_composition.columns = df_composition.iloc[0]\n"
      ],
      "metadata": {
        "id": "kqv6rLbLPP9Z"
      },
      "execution_count": 96,
      "outputs": []
    },
    {
      "cell_type": "code",
      "source": [
        "product_composition_list = soup.find_all( class_=\"details-attributes-list-item\")\n",
        "\n",
        "product_composition = [list( filter( None, p.get_text().split( '\\n' ) ) ) for p in product_composition_list]\n"
      ],
      "metadata": {
        "id": "Ye0DMLejUhc3"
      },
      "execution_count": 379,
      "outputs": []
    },
    {
      "cell_type": "code",
      "source": [
        "df_composition = pd.DataFrame(product_composition).T\n",
        "df_composition.columns =df_composition.iloc[0]\n",
        "\n",
        "df_composition = df_composition.iloc[1:]\n",
        "df_composition\n",
        "\n",
        "df_composition = df_composition.fillna( method='ffill')#.drop([3,4,5,6,7])\n",
        "\n",
        "#df_composition.drop([3,4,5,6,7])"
      ],
      "metadata": {
        "id": "-EztL8Y_wxTD"
      },
      "execution_count": 264,
      "outputs": []
    },
    {
      "cell_type": "code",
      "source": [
        "#df_composition = df_composition.fillna( method='ffill').drop([3,4,5,6,7])"
      ],
      "metadata": {
        "id": "TbcImbvA3miQ"
      },
      "execution_count": 146,
      "outputs": []
    },
    {
      "cell_type": "code",
      "source": [
        "df_composition = pd.DataFrame(product_composition).T\n",
        "df_composition.columns =df_composition.iloc[0]\n",
        "\n",
        "df_composition = df_composition.iloc[1:].fillna( method='ffill').drop([3,4,5,6,7])"
      ],
      "metadata": {
        "id": "PADlh60KsTp6"
      },
      "execution_count": 380,
      "outputs": []
    },
    {
      "cell_type": "markdown",
      "source": [
        ""
      ],
      "metadata": {
        "id": "NAncmUCXgvAv"
      }
    },
    {
      "cell_type": "code",
      "source": [
        "df_composition"
      ],
      "metadata": {
        "colab": {
          "base_uri": "https://localhost:8080/",
          "height": 191
        },
        "id": "xdScV_NukjV-",
        "outputId": "6cacea11-3a07-4d9f-b3e2-b09c6b973be6"
      },
      "execution_count": 381,
      "outputs": [
        {
          "output_type": "execute_result",
          "data": {
            "text/html": [
              "\n",
              "  <div id=\"df-1e785332-8f79-44a9-84b7-85ffce2c9fc6\">\n",
              "    <div class=\"colab-df-container\">\n",
              "      <div>\n",
              "<style scoped>\n",
              "    .dataframe tbody tr th:only-of-type {\n",
              "        vertical-align: middle;\n",
              "    }\n",
              "\n",
              "    .dataframe tbody tr th {\n",
              "        vertical-align: top;\n",
              "    }\n",
              "\n",
              "    .dataframe thead th {\n",
              "        text-align: right;\n",
              "    }\n",
              "</style>\n",
              "<table border=\"1\" class=\"dataframe\">\n",
              "  <thead>\n",
              "    <tr style=\"text-align: right;\">\n",
              "      <th></th>\n",
              "      <th>messages.garmentLength</th>\n",
              "      <th>messages.waistRise</th>\n",
              "      <th>Fit</th>\n",
              "      <th>Composition</th>\n",
              "      <th>Care instructions</th>\n",
              "      <th>Material</th>\n",
              "      <th>Description</th>\n",
              "      <th>Concept</th>\n",
              "      <th>Nice to know</th>\n",
              "      <th>Art. No.</th>\n",
              "    </tr>\n",
              "  </thead>\n",
              "  <tbody>\n",
              "    <tr>\n",
              "      <th>1</th>\n",
              "      <td>Long</td>\n",
              "      <td>Regular waist</td>\n",
              "      <td>Slim fit</td>\n",
              "      <td>Pocket lining: Polyester 65%, Cotton 35%</td>\n",
              "      <td>Only non-chlorine bleach when needed</td>\n",
              "      <td>Denim</td>\n",
              "      <td>Black</td>\n",
              "      <td>DENIM</td>\n",
              "      <td>environmentalMarker</td>\n",
              "      <td>1024256001</td>\n",
              "    </tr>\n",
              "    <tr>\n",
              "      <th>2</th>\n",
              "      <td>Long</td>\n",
              "      <td>Regular waist</td>\n",
              "      <td>Slim fit</td>\n",
              "      <td>Shell: Cotton 99%, Elastane 1%</td>\n",
              "      <td>Medium iron</td>\n",
              "      <td>Denim</td>\n",
              "      <td>Solid-color</td>\n",
              "      <td>DENIM</td>\n",
              "      <td>environmentalMarker</td>\n",
              "      <td>1024256001</td>\n",
              "    </tr>\n",
              "  </tbody>\n",
              "</table>\n",
              "</div>\n",
              "      <button class=\"colab-df-convert\" onclick=\"convertToInteractive('df-1e785332-8f79-44a9-84b7-85ffce2c9fc6')\"\n",
              "              title=\"Convert this dataframe to an interactive table.\"\n",
              "              style=\"display:none;\">\n",
              "        \n",
              "  <svg xmlns=\"http://www.w3.org/2000/svg\" height=\"24px\"viewBox=\"0 0 24 24\"\n",
              "       width=\"24px\">\n",
              "    <path d=\"M0 0h24v24H0V0z\" fill=\"none\"/>\n",
              "    <path d=\"M18.56 5.44l.94 2.06.94-2.06 2.06-.94-2.06-.94-.94-2.06-.94 2.06-2.06.94zm-11 1L8.5 8.5l.94-2.06 2.06-.94-2.06-.94L8.5 2.5l-.94 2.06-2.06.94zm10 10l.94 2.06.94-2.06 2.06-.94-2.06-.94-.94-2.06-.94 2.06-2.06.94z\"/><path d=\"M17.41 7.96l-1.37-1.37c-.4-.4-.92-.59-1.43-.59-.52 0-1.04.2-1.43.59L10.3 9.45l-7.72 7.72c-.78.78-.78 2.05 0 2.83L4 21.41c.39.39.9.59 1.41.59.51 0 1.02-.2 1.41-.59l7.78-7.78 2.81-2.81c.8-.78.8-2.07 0-2.86zM5.41 20L4 18.59l7.72-7.72 1.47 1.35L5.41 20z\"/>\n",
              "  </svg>\n",
              "      </button>\n",
              "      \n",
              "  <style>\n",
              "    .colab-df-container {\n",
              "      display:flex;\n",
              "      flex-wrap:wrap;\n",
              "      gap: 12px;\n",
              "    }\n",
              "\n",
              "    .colab-df-convert {\n",
              "      background-color: #E8F0FE;\n",
              "      border: none;\n",
              "      border-radius: 50%;\n",
              "      cursor: pointer;\n",
              "      display: none;\n",
              "      fill: #1967D2;\n",
              "      height: 32px;\n",
              "      padding: 0 0 0 0;\n",
              "      width: 32px;\n",
              "    }\n",
              "\n",
              "    .colab-df-convert:hover {\n",
              "      background-color: #E2EBFA;\n",
              "      box-shadow: 0px 1px 2px rgba(60, 64, 67, 0.3), 0px 1px 3px 1px rgba(60, 64, 67, 0.15);\n",
              "      fill: #174EA6;\n",
              "    }\n",
              "\n",
              "    [theme=dark] .colab-df-convert {\n",
              "      background-color: #3B4455;\n",
              "      fill: #D2E3FC;\n",
              "    }\n",
              "\n",
              "    [theme=dark] .colab-df-convert:hover {\n",
              "      background-color: #434B5C;\n",
              "      box-shadow: 0px 1px 3px 1px rgba(0, 0, 0, 0.15);\n",
              "      filter: drop-shadow(0px 1px 2px rgba(0, 0, 0, 0.3));\n",
              "      fill: #FFFFFF;\n",
              "    }\n",
              "  </style>\n",
              "\n",
              "      <script>\n",
              "        const buttonEl =\n",
              "          document.querySelector('#df-1e785332-8f79-44a9-84b7-85ffce2c9fc6 button.colab-df-convert');\n",
              "        buttonEl.style.display =\n",
              "          google.colab.kernel.accessAllowed ? 'block' : 'none';\n",
              "\n",
              "        async function convertToInteractive(key) {\n",
              "          const element = document.querySelector('#df-1e785332-8f79-44a9-84b7-85ffce2c9fc6');\n",
              "          const dataTable =\n",
              "            await google.colab.kernel.invokeFunction('convertToInteractive',\n",
              "                                                     [key], {});\n",
              "          if (!dataTable) return;\n",
              "\n",
              "          const docLinkHtml = 'Like what you see? Visit the ' +\n",
              "            '<a target=\"_blank\" href=https://colab.research.google.com/notebooks/data_table.ipynb>data table notebook</a>'\n",
              "            + ' to learn more about interactive tables.';\n",
              "          element.innerHTML = '';\n",
              "          dataTable['output_type'] = 'display_data';\n",
              "          await google.colab.output.renderOutput(dataTable, element);\n",
              "          const docLink = document.createElement('div');\n",
              "          docLink.innerHTML = docLinkHtml;\n",
              "          element.appendChild(docLink);\n",
              "        }\n",
              "      </script>\n",
              "    </div>\n",
              "  </div>\n",
              "  "
            ],
            "text/plain": [
              "0 messages.garmentLength messages.waistRise       Fit  \\\n",
              "1                   Long      Regular waist  Slim fit   \n",
              "2                   Long      Regular waist  Slim fit   \n",
              "\n",
              "0                               Composition  \\\n",
              "1  Pocket lining: Polyester 65%, Cotton 35%   \n",
              "2            Shell: Cotton 99%, Elastane 1%   \n",
              "\n",
              "0                     Care instructions Material  Description Concept  \\\n",
              "1  Only non-chlorine bleach when needed    Denim        Black   DENIM   \n",
              "2                           Medium iron    Denim  Solid-color   DENIM   \n",
              "\n",
              "0         Nice to know    Art. No.  \n",
              "1  environmentalMarker  1024256001  \n",
              "2  environmentalMarker  1024256001  "
            ]
          },
          "metadata": {},
          "execution_count": 381
        }
      ]
    },
    {
      "cell_type": "markdown",
      "source": [
        ""
      ],
      "metadata": {
        "id": "qFs_WlrRjaSV"
      }
    },
    {
      "cell_type": "code",
      "source": [
        "df_composition['style_id'] = df_composition['Art. No.'].apply( lambda x: x[:-3] )\n",
        "df_composition['color_id'] = df_composition['Art. No.'].apply( lambda x: x[-3:] )\n"
      ],
      "metadata": {
        "id": "tmaNaDnP6yoz"
      },
      "execution_count": 382,
      "outputs": []
    },
    {
      "cell_type": "code",
      "source": [
        "data_sku = pd.merge( df_color, df_composition[['style_id', 'Fit','Composition']],how='left', on='style_id' )"
      ],
      "metadata": {
        "id": "rVVs1yxZkM4f"
      },
      "execution_count": 383,
      "outputs": []
    },
    {
      "cell_type": "code",
      "source": [
        "data_sku"
      ],
      "metadata": {
        "colab": {
          "base_uri": "https://localhost:8080/",
          "height": 488
        },
        "id": "p9U3QIitka82",
        "outputId": "7f489342-fe5c-4f47-9fbf-2268082f3930"
      },
      "execution_count": 384,
      "outputs": [
        {
          "output_type": "execute_result",
          "data": {
            "text/html": [
              "\n",
              "  <div id=\"df-a6a7750e-1f68-42e6-9ca6-4aaa6e650373\">\n",
              "    <div class=\"colab-df-container\">\n",
              "      <div>\n",
              "<style scoped>\n",
              "    .dataframe tbody tr th:only-of-type {\n",
              "        vertical-align: middle;\n",
              "    }\n",
              "\n",
              "    .dataframe tbody tr th {\n",
              "        vertical-align: top;\n",
              "    }\n",
              "\n",
              "    .dataframe thead th {\n",
              "        text-align: right;\n",
              "    }\n",
              "</style>\n",
              "<table border=\"1\" class=\"dataframe\">\n",
              "  <thead>\n",
              "    <tr style=\"text-align: right;\">\n",
              "      <th></th>\n",
              "      <th>product_id</th>\n",
              "      <th>color_name</th>\n",
              "      <th>style_id</th>\n",
              "      <th>color_id</th>\n",
              "      <th>Fit</th>\n",
              "      <th>Composition</th>\n",
              "    </tr>\n",
              "  </thead>\n",
              "  <tbody>\n",
              "    <tr>\n",
              "      <th>0</th>\n",
              "      <td>1024256001</td>\n",
              "      <td>Black</td>\n",
              "      <td>1024256</td>\n",
              "      <td>001</td>\n",
              "      <td>Slim fit</td>\n",
              "      <td>Pocket lining: Polyester 65%, Cotton 35%</td>\n",
              "    </tr>\n",
              "    <tr>\n",
              "      <th>1</th>\n",
              "      <td>1024256001</td>\n",
              "      <td>Black</td>\n",
              "      <td>1024256</td>\n",
              "      <td>001</td>\n",
              "      <td>Slim fit</td>\n",
              "      <td>Shell: Cotton 99%, Elastane 1%</td>\n",
              "    </tr>\n",
              "    <tr>\n",
              "      <th>2</th>\n",
              "      <td>1024256002</td>\n",
              "      <td>Light denim blue</td>\n",
              "      <td>1024256</td>\n",
              "      <td>002</td>\n",
              "      <td>Slim fit</td>\n",
              "      <td>Pocket lining: Polyester 65%, Cotton 35%</td>\n",
              "    </tr>\n",
              "    <tr>\n",
              "      <th>3</th>\n",
              "      <td>1024256002</td>\n",
              "      <td>Light denim blue</td>\n",
              "      <td>1024256</td>\n",
              "      <td>002</td>\n",
              "      <td>Slim fit</td>\n",
              "      <td>Shell: Cotton 99%, Elastane 1%</td>\n",
              "    </tr>\n",
              "    <tr>\n",
              "      <th>4</th>\n",
              "      <td>1024256003</td>\n",
              "      <td>Light denim blue</td>\n",
              "      <td>1024256</td>\n",
              "      <td>003</td>\n",
              "      <td>Slim fit</td>\n",
              "      <td>Pocket lining: Polyester 65%, Cotton 35%</td>\n",
              "    </tr>\n",
              "    <tr>\n",
              "      <th>5</th>\n",
              "      <td>1024256003</td>\n",
              "      <td>Light denim blue</td>\n",
              "      <td>1024256</td>\n",
              "      <td>003</td>\n",
              "      <td>Slim fit</td>\n",
              "      <td>Shell: Cotton 99%, Elastane 1%</td>\n",
              "    </tr>\n",
              "    <tr>\n",
              "      <th>6</th>\n",
              "      <td>1024256004</td>\n",
              "      <td>Denim blue</td>\n",
              "      <td>1024256</td>\n",
              "      <td>004</td>\n",
              "      <td>Slim fit</td>\n",
              "      <td>Pocket lining: Polyester 65%, Cotton 35%</td>\n",
              "    </tr>\n",
              "    <tr>\n",
              "      <th>7</th>\n",
              "      <td>1024256004</td>\n",
              "      <td>Denim blue</td>\n",
              "      <td>1024256</td>\n",
              "      <td>004</td>\n",
              "      <td>Slim fit</td>\n",
              "      <td>Shell: Cotton 99%, Elastane 1%</td>\n",
              "    </tr>\n",
              "    <tr>\n",
              "      <th>8</th>\n",
              "      <td>1024256005</td>\n",
              "      <td>Dark blue</td>\n",
              "      <td>1024256</td>\n",
              "      <td>005</td>\n",
              "      <td>Slim fit</td>\n",
              "      <td>Pocket lining: Polyester 65%, Cotton 35%</td>\n",
              "    </tr>\n",
              "    <tr>\n",
              "      <th>9</th>\n",
              "      <td>1024256005</td>\n",
              "      <td>Dark blue</td>\n",
              "      <td>1024256</td>\n",
              "      <td>005</td>\n",
              "      <td>Slim fit</td>\n",
              "      <td>Shell: Cotton 99%, Elastane 1%</td>\n",
              "    </tr>\n",
              "    <tr>\n",
              "      <th>10</th>\n",
              "      <td>1024256006</td>\n",
              "      <td>Dark denim blue</td>\n",
              "      <td>1024256</td>\n",
              "      <td>006</td>\n",
              "      <td>Slim fit</td>\n",
              "      <td>Pocket lining: Polyester 65%, Cotton 35%</td>\n",
              "    </tr>\n",
              "    <tr>\n",
              "      <th>11</th>\n",
              "      <td>1024256006</td>\n",
              "      <td>Dark denim blue</td>\n",
              "      <td>1024256</td>\n",
              "      <td>006</td>\n",
              "      <td>Slim fit</td>\n",
              "      <td>Shell: Cotton 99%, Elastane 1%</td>\n",
              "    </tr>\n",
              "    <tr>\n",
              "      <th>12</th>\n",
              "      <td>1024256007</td>\n",
              "      <td>Dark gray</td>\n",
              "      <td>1024256</td>\n",
              "      <td>007</td>\n",
              "      <td>Slim fit</td>\n",
              "      <td>Pocket lining: Polyester 65%, Cotton 35%</td>\n",
              "    </tr>\n",
              "    <tr>\n",
              "      <th>13</th>\n",
              "      <td>1024256007</td>\n",
              "      <td>Dark gray</td>\n",
              "      <td>1024256</td>\n",
              "      <td>007</td>\n",
              "      <td>Slim fit</td>\n",
              "      <td>Shell: Cotton 99%, Elastane 1%</td>\n",
              "    </tr>\n",
              "  </tbody>\n",
              "</table>\n",
              "</div>\n",
              "      <button class=\"colab-df-convert\" onclick=\"convertToInteractive('df-a6a7750e-1f68-42e6-9ca6-4aaa6e650373')\"\n",
              "              title=\"Convert this dataframe to an interactive table.\"\n",
              "              style=\"display:none;\">\n",
              "        \n",
              "  <svg xmlns=\"http://www.w3.org/2000/svg\" height=\"24px\"viewBox=\"0 0 24 24\"\n",
              "       width=\"24px\">\n",
              "    <path d=\"M0 0h24v24H0V0z\" fill=\"none\"/>\n",
              "    <path d=\"M18.56 5.44l.94 2.06.94-2.06 2.06-.94-2.06-.94-.94-2.06-.94 2.06-2.06.94zm-11 1L8.5 8.5l.94-2.06 2.06-.94-2.06-.94L8.5 2.5l-.94 2.06-2.06.94zm10 10l.94 2.06.94-2.06 2.06-.94-2.06-.94-.94-2.06-.94 2.06-2.06.94z\"/><path d=\"M17.41 7.96l-1.37-1.37c-.4-.4-.92-.59-1.43-.59-.52 0-1.04.2-1.43.59L10.3 9.45l-7.72 7.72c-.78.78-.78 2.05 0 2.83L4 21.41c.39.39.9.59 1.41.59.51 0 1.02-.2 1.41-.59l7.78-7.78 2.81-2.81c.8-.78.8-2.07 0-2.86zM5.41 20L4 18.59l7.72-7.72 1.47 1.35L5.41 20z\"/>\n",
              "  </svg>\n",
              "      </button>\n",
              "      \n",
              "  <style>\n",
              "    .colab-df-container {\n",
              "      display:flex;\n",
              "      flex-wrap:wrap;\n",
              "      gap: 12px;\n",
              "    }\n",
              "\n",
              "    .colab-df-convert {\n",
              "      background-color: #E8F0FE;\n",
              "      border: none;\n",
              "      border-radius: 50%;\n",
              "      cursor: pointer;\n",
              "      display: none;\n",
              "      fill: #1967D2;\n",
              "      height: 32px;\n",
              "      padding: 0 0 0 0;\n",
              "      width: 32px;\n",
              "    }\n",
              "\n",
              "    .colab-df-convert:hover {\n",
              "      background-color: #E2EBFA;\n",
              "      box-shadow: 0px 1px 2px rgba(60, 64, 67, 0.3), 0px 1px 3px 1px rgba(60, 64, 67, 0.15);\n",
              "      fill: #174EA6;\n",
              "    }\n",
              "\n",
              "    [theme=dark] .colab-df-convert {\n",
              "      background-color: #3B4455;\n",
              "      fill: #D2E3FC;\n",
              "    }\n",
              "\n",
              "    [theme=dark] .colab-df-convert:hover {\n",
              "      background-color: #434B5C;\n",
              "      box-shadow: 0px 1px 3px 1px rgba(0, 0, 0, 0.15);\n",
              "      filter: drop-shadow(0px 1px 2px rgba(0, 0, 0, 0.3));\n",
              "      fill: #FFFFFF;\n",
              "    }\n",
              "  </style>\n",
              "\n",
              "      <script>\n",
              "        const buttonEl =\n",
              "          document.querySelector('#df-a6a7750e-1f68-42e6-9ca6-4aaa6e650373 button.colab-df-convert');\n",
              "        buttonEl.style.display =\n",
              "          google.colab.kernel.accessAllowed ? 'block' : 'none';\n",
              "\n",
              "        async function convertToInteractive(key) {\n",
              "          const element = document.querySelector('#df-a6a7750e-1f68-42e6-9ca6-4aaa6e650373');\n",
              "          const dataTable =\n",
              "            await google.colab.kernel.invokeFunction('convertToInteractive',\n",
              "                                                     [key], {});\n",
              "          if (!dataTable) return;\n",
              "\n",
              "          const docLinkHtml = 'Like what you see? Visit the ' +\n",
              "            '<a target=\"_blank\" href=https://colab.research.google.com/notebooks/data_table.ipynb>data table notebook</a>'\n",
              "            + ' to learn more about interactive tables.';\n",
              "          element.innerHTML = '';\n",
              "          dataTable['output_type'] = 'display_data';\n",
              "          await google.colab.output.renderOutput(dataTable, element);\n",
              "          const docLink = document.createElement('div');\n",
              "          docLink.innerHTML = docLinkHtml;\n",
              "          element.appendChild(docLink);\n",
              "        }\n",
              "      </script>\n",
              "    </div>\n",
              "  </div>\n",
              "  "
            ],
            "text/plain": [
              "    product_id        color_name style_id color_id       Fit  \\\n",
              "0   1024256001             Black  1024256      001  Slim fit   \n",
              "1   1024256001             Black  1024256      001  Slim fit   \n",
              "2   1024256002  Light denim blue  1024256      002  Slim fit   \n",
              "3   1024256002  Light denim blue  1024256      002  Slim fit   \n",
              "4   1024256003  Light denim blue  1024256      003  Slim fit   \n",
              "5   1024256003  Light denim blue  1024256      003  Slim fit   \n",
              "6   1024256004        Denim blue  1024256      004  Slim fit   \n",
              "7   1024256004        Denim blue  1024256      004  Slim fit   \n",
              "8   1024256005         Dark blue  1024256      005  Slim fit   \n",
              "9   1024256005         Dark blue  1024256      005  Slim fit   \n",
              "10  1024256006   Dark denim blue  1024256      006  Slim fit   \n",
              "11  1024256006   Dark denim blue  1024256      006  Slim fit   \n",
              "12  1024256007         Dark gray  1024256      007  Slim fit   \n",
              "13  1024256007         Dark gray  1024256      007  Slim fit   \n",
              "\n",
              "                                 Composition  \n",
              "0   Pocket lining: Polyester 65%, Cotton 35%  \n",
              "1             Shell: Cotton 99%, Elastane 1%  \n",
              "2   Pocket lining: Polyester 65%, Cotton 35%  \n",
              "3             Shell: Cotton 99%, Elastane 1%  \n",
              "4   Pocket lining: Polyester 65%, Cotton 35%  \n",
              "5             Shell: Cotton 99%, Elastane 1%  \n",
              "6   Pocket lining: Polyester 65%, Cotton 35%  \n",
              "7             Shell: Cotton 99%, Elastane 1%  \n",
              "8   Pocket lining: Polyester 65%, Cotton 35%  \n",
              "9             Shell: Cotton 99%, Elastane 1%  \n",
              "10  Pocket lining: Polyester 65%, Cotton 35%  \n",
              "11            Shell: Cotton 99%, Elastane 1%  \n",
              "12  Pocket lining: Polyester 65%, Cotton 35%  \n",
              "13            Shell: Cotton 99%, Elastane 1%  "
            ]
          },
          "metadata": {},
          "execution_count": 384
        }
      ]
    },
    {
      "cell_type": "code",
      "source": [
        "import requests\n",
        "from bs4 import BeautifulSoup\n",
        "\n",
        "import pandas as pd\n",
        "from datetime import datetime\n"
      ],
      "metadata": {
        "id": "GnpStwUZ7fAY"
      },
      "execution_count": 390,
      "outputs": []
    },
    {
      "cell_type": "code",
      "source": [
        "url= 'https://www2.hm.com/en_ca/productpage.1024256001.html'\n",
        "\n",
        "headers = {'User-Agent': 'Mozilla/5.0 (Windows NT 10.0; Win64; x64) AppleWebKit/537.36 (KHTML, like Gecko) Chrome/98.0.4758.102 Safari/537.36'}\n",
        "\n",
        "page = requests.get( url, headers=headers )\n"
      ],
      "metadata": {
        "id": "ZhuBvygh7jve"
      },
      "execution_count": 391,
      "outputs": []
    },
    {
      "cell_type": "markdown",
      "source": [
        "**Multiple Products**\n"
      ],
      "metadata": {
        "id": "IvCy0B928lhp"
      }
    },
    {
      "cell_type": "code",
      "source": [
        "headers = {'User-Agent': 'Mozilla/5.0 (Windows NT 10.0; Win64; x64) AppleWebKit/537.36 (KHTML, like Gecko) Chrome/98.0.4758.102 Safari/537.36'}\n",
        "\n",
        "# empty dataframe\n",
        "df_details = pd.DataFrame()\n",
        "\n",
        "# unique columns for all products\n",
        "aux = []\n",
        "\n",
        "cols = ['Fit','Composition','Care instructions','Material','Art. No.']\n",
        "df_pattern = pd.DataFrame( columns=cols )\n",
        "\n",
        "\n",
        "for i in range( len( data ) ):\n",
        "    # API \n",
        "    url = 'https://www2.hm.com/en_ca/productpage.' + data.loc[i,'product_id'] + '.html'\n",
        "\n",
        "    page = requests.get( url, headers=headers )\n",
        "\n",
        "    # Beautiful Soup object\n",
        "    soup = BeautifulSoup( page.text, 'html.parser' )\n",
        "\n",
        "    # ==================== color name =================================\n",
        "    product_list = soup.find_all( 'a', class_='filter-option miniature' )\n",
        "    color_name = [p.get( 'data-color' ) for p in product_list]\n",
        "\n",
        "    # product id\n",
        "    product_id = [p.get( 'data-articlecode' ) for p in product_list]\n",
        "\n",
        "    df_color = pd.DataFrame( [product_id, color_name] ).T\n",
        "    df_color.columns = ['product_id', 'color_name']\n",
        "\n",
        "    # generate style id + color id\n",
        "    df_color['style_id'] = df_color['product_id'].apply( lambda x: x[:-3] )\n",
        "    df_color['color_id'] = df_color['product_id'].apply( lambda x: x[-3:] )\n",
        "\n",
        "    # ==================== composition =================================\n",
        "    #product_composition_list = soup.find_all( class_=\"details-attributes-list-item\")\n",
        "    #product_composition = [list( filter( None, p.get_text().split( '\\n' ) ) ) for p in product_composition_list]\n",
        "\n",
        "    #df_composition = pd.DataFrame(product_composition).T\n",
        "    #df_composition.columns =df_composition.iloc[0]\n",
        "\n",
        "    #df_composition = df_composition.iloc[1:].fillna( method='ffill')\n",
        "\n",
        "    # generate style id + color id\n",
        "    #df_composition['style_id'] = df_composition['Art. No.'].apply( lambda x: x[:-3] )\n",
        "    #df_composition['color_id'] = df_composition['Art. No.'].apply( lambda x: x[-3:] )\n",
        "\n",
        "    # merge data color + decomposition\n",
        "    #data_sku = pd.merge( df_color, df_composition[['style_id', 'Fit','Composition']],how='left', on='style_id' )\n",
        "    \n",
        "    # all details products\n",
        "    #df_details = pd.concat( [df_details, data_sku], axis=0 )\n",
        "\n",
        "\n",
        " # all details products\n",
        " #df_details = pd.concat( [df_details, data_sku], axis=0 )\n",
        "\n",
        "#\n",
        " \n",
        "\n",
        "    \n",
        "\n"
      ],
      "metadata": {
        "id": "Bh2k71AB8p8o"
      },
      "execution_count": 392,
      "outputs": []
    },
    {
      "cell_type": "code",
      "source": [
        "    \n",
        "    df_details = pd.DataFrame()\n",
        "    # ==================== composition =================================\n",
        "    product_composition_list = soup.find_all( class_=\"details-attributes-list-item\")\n",
        "    product_composition = [list( filter( None, p.get_text().split( '\\n' ) ) ) for p in product_composition_list]\n",
        "\n",
        "    #df_composition = pd.DataFrame(product_composition).T\n",
        "    #df_composition.columns =df_composition.iloc[0]\n",
        "\n",
        "    #df_composition = df_composition.iloc[1:].fillna( method='ffill')\n",
        "\n",
        "\n",
        "    \n",
        "    "
      ],
      "metadata": {
        "id": "M4D6clp-n0gx"
      },
      "execution_count": 393,
      "outputs": []
    },
    {
      "cell_type": "code",
      "source": [
        "df_composition = pd.DataFrame(product_composition).T\n",
        "df_composition.columns =df_composition.iloc[0]\n",
        "\n",
        "df_composition = df_composition.iloc[1:].fillna( method='ffill').drop([3,4,5,6])"
      ],
      "metadata": {
        "id": "3W2McKK6SLMp"
      },
      "execution_count": 406,
      "outputs": []
    },
    {
      "cell_type": "code",
      "source": [
        "df_composition"
      ],
      "metadata": {
        "colab": {
          "base_uri": "https://localhost:8080/",
          "height": 243
        },
        "id": "InLjowaUSfL6",
        "outputId": "e2450df7-2618-4dca-97e9-4783544bcf81"
      },
      "execution_count": 407,
      "outputs": [
        {
          "output_type": "execute_result",
          "data": {
            "text/html": [
              "\n",
              "  <div id=\"df-aa858cf8-d128-48bb-be45-bc95e258ab19\">\n",
              "    <div class=\"colab-df-container\">\n",
              "      <div>\n",
              "<style scoped>\n",
              "    .dataframe tbody tr th:only-of-type {\n",
              "        vertical-align: middle;\n",
              "    }\n",
              "\n",
              "    .dataframe tbody tr th {\n",
              "        vertical-align: top;\n",
              "    }\n",
              "\n",
              "    .dataframe thead th {\n",
              "        text-align: right;\n",
              "    }\n",
              "</style>\n",
              "<table border=\"1\" class=\"dataframe\">\n",
              "  <thead>\n",
              "    <tr style=\"text-align: right;\">\n",
              "      <th></th>\n",
              "      <th>messages.garmentLength</th>\n",
              "      <th>messages.waistRise</th>\n",
              "      <th>Fit</th>\n",
              "      <th>messages.clothingStyle</th>\n",
              "      <th>Composition</th>\n",
              "      <th>Care instructions</th>\n",
              "      <th>Material</th>\n",
              "      <th>Description</th>\n",
              "      <th>Concept</th>\n",
              "      <th>Art. No.</th>\n",
              "    </tr>\n",
              "  </thead>\n",
              "  <tbody>\n",
              "    <tr>\n",
              "      <th>1</th>\n",
              "      <td>Long</td>\n",
              "      <td>Regular waist</td>\n",
              "      <td>Skinny fit</td>\n",
              "      <td>Trashed</td>\n",
              "      <td>Cotton 98%, Elastane 2%</td>\n",
              "      <td>Only non-chlorine bleach when needed</td>\n",
              "      <td>keyFibreType</td>\n",
              "      <td>Light denim blue</td>\n",
              "      <td>DENIM</td>\n",
              "      <td>0690449043</td>\n",
              "    </tr>\n",
              "    <tr>\n",
              "      <th>2</th>\n",
              "      <td>Long</td>\n",
              "      <td>Regular waist</td>\n",
              "      <td>Skinny fit</td>\n",
              "      <td>Trashed</td>\n",
              "      <td>Pocket lining: Polyester 65%, Cotton 35%</td>\n",
              "      <td>Medium iron</td>\n",
              "      <td>Denim</td>\n",
              "      <td>Light denim blue</td>\n",
              "      <td>DENIM</td>\n",
              "      <td>0690449043</td>\n",
              "    </tr>\n",
              "  </tbody>\n",
              "</table>\n",
              "</div>\n",
              "      <button class=\"colab-df-convert\" onclick=\"convertToInteractive('df-aa858cf8-d128-48bb-be45-bc95e258ab19')\"\n",
              "              title=\"Convert this dataframe to an interactive table.\"\n",
              "              style=\"display:none;\">\n",
              "        \n",
              "  <svg xmlns=\"http://www.w3.org/2000/svg\" height=\"24px\"viewBox=\"0 0 24 24\"\n",
              "       width=\"24px\">\n",
              "    <path d=\"M0 0h24v24H0V0z\" fill=\"none\"/>\n",
              "    <path d=\"M18.56 5.44l.94 2.06.94-2.06 2.06-.94-2.06-.94-.94-2.06-.94 2.06-2.06.94zm-11 1L8.5 8.5l.94-2.06 2.06-.94-2.06-.94L8.5 2.5l-.94 2.06-2.06.94zm10 10l.94 2.06.94-2.06 2.06-.94-2.06-.94-.94-2.06-.94 2.06-2.06.94z\"/><path d=\"M17.41 7.96l-1.37-1.37c-.4-.4-.92-.59-1.43-.59-.52 0-1.04.2-1.43.59L10.3 9.45l-7.72 7.72c-.78.78-.78 2.05 0 2.83L4 21.41c.39.39.9.59 1.41.59.51 0 1.02-.2 1.41-.59l7.78-7.78 2.81-2.81c.8-.78.8-2.07 0-2.86zM5.41 20L4 18.59l7.72-7.72 1.47 1.35L5.41 20z\"/>\n",
              "  </svg>\n",
              "      </button>\n",
              "      \n",
              "  <style>\n",
              "    .colab-df-container {\n",
              "      display:flex;\n",
              "      flex-wrap:wrap;\n",
              "      gap: 12px;\n",
              "    }\n",
              "\n",
              "    .colab-df-convert {\n",
              "      background-color: #E8F0FE;\n",
              "      border: none;\n",
              "      border-radius: 50%;\n",
              "      cursor: pointer;\n",
              "      display: none;\n",
              "      fill: #1967D2;\n",
              "      height: 32px;\n",
              "      padding: 0 0 0 0;\n",
              "      width: 32px;\n",
              "    }\n",
              "\n",
              "    .colab-df-convert:hover {\n",
              "      background-color: #E2EBFA;\n",
              "      box-shadow: 0px 1px 2px rgba(60, 64, 67, 0.3), 0px 1px 3px 1px rgba(60, 64, 67, 0.15);\n",
              "      fill: #174EA6;\n",
              "    }\n",
              "\n",
              "    [theme=dark] .colab-df-convert {\n",
              "      background-color: #3B4455;\n",
              "      fill: #D2E3FC;\n",
              "    }\n",
              "\n",
              "    [theme=dark] .colab-df-convert:hover {\n",
              "      background-color: #434B5C;\n",
              "      box-shadow: 0px 1px 3px 1px rgba(0, 0, 0, 0.15);\n",
              "      filter: drop-shadow(0px 1px 2px rgba(0, 0, 0, 0.3));\n",
              "      fill: #FFFFFF;\n",
              "    }\n",
              "  </style>\n",
              "\n",
              "      <script>\n",
              "        const buttonEl =\n",
              "          document.querySelector('#df-aa858cf8-d128-48bb-be45-bc95e258ab19 button.colab-df-convert');\n",
              "        buttonEl.style.display =\n",
              "          google.colab.kernel.accessAllowed ? 'block' : 'none';\n",
              "\n",
              "        async function convertToInteractive(key) {\n",
              "          const element = document.querySelector('#df-aa858cf8-d128-48bb-be45-bc95e258ab19');\n",
              "          const dataTable =\n",
              "            await google.colab.kernel.invokeFunction('convertToInteractive',\n",
              "                                                     [key], {});\n",
              "          if (!dataTable) return;\n",
              "\n",
              "          const docLinkHtml = 'Like what you see? Visit the ' +\n",
              "            '<a target=\"_blank\" href=https://colab.research.google.com/notebooks/data_table.ipynb>data table notebook</a>'\n",
              "            + ' to learn more about interactive tables.';\n",
              "          element.innerHTML = '';\n",
              "          dataTable['output_type'] = 'display_data';\n",
              "          await google.colab.output.renderOutput(dataTable, element);\n",
              "          const docLink = document.createElement('div');\n",
              "          docLink.innerHTML = docLinkHtml;\n",
              "          element.appendChild(docLink);\n",
              "        }\n",
              "      </script>\n",
              "    </div>\n",
              "  </div>\n",
              "  "
            ],
            "text/plain": [
              "0 messages.garmentLength messages.waistRise         Fit  \\\n",
              "1                   Long      Regular waist  Skinny fit   \n",
              "2                   Long      Regular waist  Skinny fit   \n",
              "\n",
              "0 messages.clothingStyle                               Composition  \\\n",
              "1                Trashed                   Cotton 98%, Elastane 2%   \n",
              "2                Trashed  Pocket lining: Polyester 65%, Cotton 35%   \n",
              "\n",
              "0                     Care instructions      Material       Description  \\\n",
              "1  Only non-chlorine bleach when needed  keyFibreType  Light denim blue   \n",
              "2                           Medium iron         Denim  Light denim blue   \n",
              "\n",
              "0 Concept    Art. No.  \n",
              "1   DENIM  0690449043  \n",
              "2   DENIM  0690449043  "
            ]
          },
          "metadata": {},
          "execution_count": 407
        }
      ]
    },
    {
      "cell_type": "code",
      "source": [
        "    # all details products\n",
        "    df_details = pd.concat( [df_details, data_sku], axis=0 )\n",
        "\n",
        "\n",
        "    # generate style id + color id\n",
        "    df_composition['style_id'] = df_composition['Art. No.'].apply( lambda x: x[:-3] )\n",
        "    df_composition['color_id'] = df_composition['Art. No.'].apply( lambda x: x[-3:] )\n",
        "\n",
        "    \n",
        "    "
      ],
      "metadata": {
        "id": "Wt_KJEnO1ybS"
      },
      "execution_count": 408,
      "outputs": []
    },
    {
      "cell_type": "code",
      "source": [
        "    # merge data color + decomposition\n",
        "    data_sku = pd.merge( df_color, df_composition[['style_id', 'Fit','Composition','Care instructions','Material']], how='left', on='style_id' )\n",
        "    \n",
        "    # all details products\n",
        "    df_details = pd.concat( [df_details, data_sku], axis=0 )\n",
        "\n",
        "    aux = aux + df_composition.columns.tolist()"
      ],
      "metadata": {
        "id": "HJ8pssGORgyD"
      },
      "execution_count": 411,
      "outputs": []
    },
    {
      "cell_type": "code",
      "source": [
        "# Join Showroom data + details\n",
        "data['style_id'] = data['product_id'].apply( lambda x: x[:-3] )\n",
        "data['color_id'] = data['product_id'].apply( lambda x: x[-3:] )\n",
        "\n",
        "# merge data color + decomposition\n",
        "data_raw = pd.merge ( data, df_details[['style_id', 'Fit','Composition','Care instructions','Material']], \n",
        "                     how='left', on='style_id')\n"
      ],
      "metadata": {
        "id": "4KLwbNzCcUb_"
      },
      "execution_count": 420,
      "outputs": []
    },
    {
      "cell_type": "code",
      "source": [
        "df_details.head()"
      ],
      "metadata": {
        "colab": {
          "base_uri": "https://localhost:8080/",
          "height": 206
        },
        "id": "7Sinf6egO6xK",
        "outputId": "795ccc6b-5971-496c-94e6-26fba4d1f77b"
      },
      "execution_count": 412,
      "outputs": [
        {
          "output_type": "execute_result",
          "data": {
            "text/html": [
              "\n",
              "  <div id=\"df-23abdb12-74d3-4f27-a76b-87857a024f50\">\n",
              "    <div class=\"colab-df-container\">\n",
              "      <div>\n",
              "<style scoped>\n",
              "    .dataframe tbody tr th:only-of-type {\n",
              "        vertical-align: middle;\n",
              "    }\n",
              "\n",
              "    .dataframe tbody tr th {\n",
              "        vertical-align: top;\n",
              "    }\n",
              "\n",
              "    .dataframe thead th {\n",
              "        text-align: right;\n",
              "    }\n",
              "</style>\n",
              "<table border=\"1\" class=\"dataframe\">\n",
              "  <thead>\n",
              "    <tr style=\"text-align: right;\">\n",
              "      <th></th>\n",
              "      <th>product_id</th>\n",
              "      <th>color_name</th>\n",
              "      <th>style_id</th>\n",
              "      <th>color_id</th>\n",
              "      <th>Fit</th>\n",
              "      <th>Composition</th>\n",
              "      <th>Care instructions</th>\n",
              "      <th>Material</th>\n",
              "    </tr>\n",
              "  </thead>\n",
              "  <tbody>\n",
              "    <tr>\n",
              "      <th>0</th>\n",
              "      <td>1024256001</td>\n",
              "      <td>Black</td>\n",
              "      <td>1024256</td>\n",
              "      <td>001</td>\n",
              "      <td>Slim fit</td>\n",
              "      <td>Pocket lining: Polyester 65%, Cotton 35%</td>\n",
              "      <td>NaN</td>\n",
              "      <td>NaN</td>\n",
              "    </tr>\n",
              "    <tr>\n",
              "      <th>1</th>\n",
              "      <td>1024256001</td>\n",
              "      <td>Black</td>\n",
              "      <td>1024256</td>\n",
              "      <td>001</td>\n",
              "      <td>Slim fit</td>\n",
              "      <td>Shell: Cotton 99%, Elastane 1%</td>\n",
              "      <td>NaN</td>\n",
              "      <td>NaN</td>\n",
              "    </tr>\n",
              "    <tr>\n",
              "      <th>2</th>\n",
              "      <td>1024256002</td>\n",
              "      <td>Light denim blue</td>\n",
              "      <td>1024256</td>\n",
              "      <td>002</td>\n",
              "      <td>Slim fit</td>\n",
              "      <td>Pocket lining: Polyester 65%, Cotton 35%</td>\n",
              "      <td>NaN</td>\n",
              "      <td>NaN</td>\n",
              "    </tr>\n",
              "    <tr>\n",
              "      <th>3</th>\n",
              "      <td>1024256002</td>\n",
              "      <td>Light denim blue</td>\n",
              "      <td>1024256</td>\n",
              "      <td>002</td>\n",
              "      <td>Slim fit</td>\n",
              "      <td>Shell: Cotton 99%, Elastane 1%</td>\n",
              "      <td>NaN</td>\n",
              "      <td>NaN</td>\n",
              "    </tr>\n",
              "    <tr>\n",
              "      <th>4</th>\n",
              "      <td>1024256003</td>\n",
              "      <td>Light denim blue</td>\n",
              "      <td>1024256</td>\n",
              "      <td>003</td>\n",
              "      <td>Slim fit</td>\n",
              "      <td>Pocket lining: Polyester 65%, Cotton 35%</td>\n",
              "      <td>NaN</td>\n",
              "      <td>NaN</td>\n",
              "    </tr>\n",
              "  </tbody>\n",
              "</table>\n",
              "</div>\n",
              "      <button class=\"colab-df-convert\" onclick=\"convertToInteractive('df-23abdb12-74d3-4f27-a76b-87857a024f50')\"\n",
              "              title=\"Convert this dataframe to an interactive table.\"\n",
              "              style=\"display:none;\">\n",
              "        \n",
              "  <svg xmlns=\"http://www.w3.org/2000/svg\" height=\"24px\"viewBox=\"0 0 24 24\"\n",
              "       width=\"24px\">\n",
              "    <path d=\"M0 0h24v24H0V0z\" fill=\"none\"/>\n",
              "    <path d=\"M18.56 5.44l.94 2.06.94-2.06 2.06-.94-2.06-.94-.94-2.06-.94 2.06-2.06.94zm-11 1L8.5 8.5l.94-2.06 2.06-.94-2.06-.94L8.5 2.5l-.94 2.06-2.06.94zm10 10l.94 2.06.94-2.06 2.06-.94-2.06-.94-.94-2.06-.94 2.06-2.06.94z\"/><path d=\"M17.41 7.96l-1.37-1.37c-.4-.4-.92-.59-1.43-.59-.52 0-1.04.2-1.43.59L10.3 9.45l-7.72 7.72c-.78.78-.78 2.05 0 2.83L4 21.41c.39.39.9.59 1.41.59.51 0 1.02-.2 1.41-.59l7.78-7.78 2.81-2.81c.8-.78.8-2.07 0-2.86zM5.41 20L4 18.59l7.72-7.72 1.47 1.35L5.41 20z\"/>\n",
              "  </svg>\n",
              "      </button>\n",
              "      \n",
              "  <style>\n",
              "    .colab-df-container {\n",
              "      display:flex;\n",
              "      flex-wrap:wrap;\n",
              "      gap: 12px;\n",
              "    }\n",
              "\n",
              "    .colab-df-convert {\n",
              "      background-color: #E8F0FE;\n",
              "      border: none;\n",
              "      border-radius: 50%;\n",
              "      cursor: pointer;\n",
              "      display: none;\n",
              "      fill: #1967D2;\n",
              "      height: 32px;\n",
              "      padding: 0 0 0 0;\n",
              "      width: 32px;\n",
              "    }\n",
              "\n",
              "    .colab-df-convert:hover {\n",
              "      background-color: #E2EBFA;\n",
              "      box-shadow: 0px 1px 2px rgba(60, 64, 67, 0.3), 0px 1px 3px 1px rgba(60, 64, 67, 0.15);\n",
              "      fill: #174EA6;\n",
              "    }\n",
              "\n",
              "    [theme=dark] .colab-df-convert {\n",
              "      background-color: #3B4455;\n",
              "      fill: #D2E3FC;\n",
              "    }\n",
              "\n",
              "    [theme=dark] .colab-df-convert:hover {\n",
              "      background-color: #434B5C;\n",
              "      box-shadow: 0px 1px 3px 1px rgba(0, 0, 0, 0.15);\n",
              "      filter: drop-shadow(0px 1px 2px rgba(0, 0, 0, 0.3));\n",
              "      fill: #FFFFFF;\n",
              "    }\n",
              "  </style>\n",
              "\n",
              "      <script>\n",
              "        const buttonEl =\n",
              "          document.querySelector('#df-23abdb12-74d3-4f27-a76b-87857a024f50 button.colab-df-convert');\n",
              "        buttonEl.style.display =\n",
              "          google.colab.kernel.accessAllowed ? 'block' : 'none';\n",
              "\n",
              "        async function convertToInteractive(key) {\n",
              "          const element = document.querySelector('#df-23abdb12-74d3-4f27-a76b-87857a024f50');\n",
              "          const dataTable =\n",
              "            await google.colab.kernel.invokeFunction('convertToInteractive',\n",
              "                                                     [key], {});\n",
              "          if (!dataTable) return;\n",
              "\n",
              "          const docLinkHtml = 'Like what you see? Visit the ' +\n",
              "            '<a target=\"_blank\" href=https://colab.research.google.com/notebooks/data_table.ipynb>data table notebook</a>'\n",
              "            + ' to learn more about interactive tables.';\n",
              "          element.innerHTML = '';\n",
              "          dataTable['output_type'] = 'display_data';\n",
              "          await google.colab.output.renderOutput(dataTable, element);\n",
              "          const docLink = document.createElement('div');\n",
              "          docLink.innerHTML = docLinkHtml;\n",
              "          element.appendChild(docLink);\n",
              "        }\n",
              "      </script>\n",
              "    </div>\n",
              "  </div>\n",
              "  "
            ],
            "text/plain": [
              "   product_id        color_name style_id color_id       Fit  \\\n",
              "0  1024256001             Black  1024256      001  Slim fit   \n",
              "1  1024256001             Black  1024256      001  Slim fit   \n",
              "2  1024256002  Light denim blue  1024256      002  Slim fit   \n",
              "3  1024256002  Light denim blue  1024256      002  Slim fit   \n",
              "4  1024256003  Light denim blue  1024256      003  Slim fit   \n",
              "\n",
              "                                Composition Care instructions Material  \n",
              "0  Pocket lining: Polyester 65%, Cotton 35%               NaN      NaN  \n",
              "1            Shell: Cotton 99%, Elastane 1%               NaN      NaN  \n",
              "2  Pocket lining: Polyester 65%, Cotton 35%               NaN      NaN  \n",
              "3            Shell: Cotton 99%, Elastane 1%               NaN      NaN  \n",
              "4  Pocket lining: Polyester 65%, Cotton 35%               NaN      NaN  "
            ]
          },
          "metadata": {},
          "execution_count": 412
        }
      ]
    },
    {
      "cell_type": "code",
      "source": [
        "df_pattern"
      ],
      "metadata": {
        "colab": {
          "base_uri": "https://localhost:8080/",
          "height": 49
        },
        "id": "IsuwUCgLXvoX",
        "outputId": "90d466d5-276d-4892-c723-7391aa3dce6b"
      },
      "execution_count": 413,
      "outputs": [
        {
          "output_type": "execute_result",
          "data": {
            "text/html": [
              "\n",
              "  <div id=\"df-73cd46e0-8bcd-4645-ab79-a463a1b1fec0\">\n",
              "    <div class=\"colab-df-container\">\n",
              "      <div>\n",
              "<style scoped>\n",
              "    .dataframe tbody tr th:only-of-type {\n",
              "        vertical-align: middle;\n",
              "    }\n",
              "\n",
              "    .dataframe tbody tr th {\n",
              "        vertical-align: top;\n",
              "    }\n",
              "\n",
              "    .dataframe thead th {\n",
              "        text-align: right;\n",
              "    }\n",
              "</style>\n",
              "<table border=\"1\" class=\"dataframe\">\n",
              "  <thead>\n",
              "    <tr style=\"text-align: right;\">\n",
              "      <th></th>\n",
              "      <th>Fit</th>\n",
              "      <th>Composition</th>\n",
              "      <th>Care instructions</th>\n",
              "      <th>Material</th>\n",
              "      <th>Art. No.</th>\n",
              "    </tr>\n",
              "  </thead>\n",
              "  <tbody>\n",
              "  </tbody>\n",
              "</table>\n",
              "</div>\n",
              "      <button class=\"colab-df-convert\" onclick=\"convertToInteractive('df-73cd46e0-8bcd-4645-ab79-a463a1b1fec0')\"\n",
              "              title=\"Convert this dataframe to an interactive table.\"\n",
              "              style=\"display:none;\">\n",
              "        \n",
              "  <svg xmlns=\"http://www.w3.org/2000/svg\" height=\"24px\"viewBox=\"0 0 24 24\"\n",
              "       width=\"24px\">\n",
              "    <path d=\"M0 0h24v24H0V0z\" fill=\"none\"/>\n",
              "    <path d=\"M18.56 5.44l.94 2.06.94-2.06 2.06-.94-2.06-.94-.94-2.06-.94 2.06-2.06.94zm-11 1L8.5 8.5l.94-2.06 2.06-.94-2.06-.94L8.5 2.5l-.94 2.06-2.06.94zm10 10l.94 2.06.94-2.06 2.06-.94-2.06-.94-.94-2.06-.94 2.06-2.06.94z\"/><path d=\"M17.41 7.96l-1.37-1.37c-.4-.4-.92-.59-1.43-.59-.52 0-1.04.2-1.43.59L10.3 9.45l-7.72 7.72c-.78.78-.78 2.05 0 2.83L4 21.41c.39.39.9.59 1.41.59.51 0 1.02-.2 1.41-.59l7.78-7.78 2.81-2.81c.8-.78.8-2.07 0-2.86zM5.41 20L4 18.59l7.72-7.72 1.47 1.35L5.41 20z\"/>\n",
              "  </svg>\n",
              "      </button>\n",
              "      \n",
              "  <style>\n",
              "    .colab-df-container {\n",
              "      display:flex;\n",
              "      flex-wrap:wrap;\n",
              "      gap: 12px;\n",
              "    }\n",
              "\n",
              "    .colab-df-convert {\n",
              "      background-color: #E8F0FE;\n",
              "      border: none;\n",
              "      border-radius: 50%;\n",
              "      cursor: pointer;\n",
              "      display: none;\n",
              "      fill: #1967D2;\n",
              "      height: 32px;\n",
              "      padding: 0 0 0 0;\n",
              "      width: 32px;\n",
              "    }\n",
              "\n",
              "    .colab-df-convert:hover {\n",
              "      background-color: #E2EBFA;\n",
              "      box-shadow: 0px 1px 2px rgba(60, 64, 67, 0.3), 0px 1px 3px 1px rgba(60, 64, 67, 0.15);\n",
              "      fill: #174EA6;\n",
              "    }\n",
              "\n",
              "    [theme=dark] .colab-df-convert {\n",
              "      background-color: #3B4455;\n",
              "      fill: #D2E3FC;\n",
              "    }\n",
              "\n",
              "    [theme=dark] .colab-df-convert:hover {\n",
              "      background-color: #434B5C;\n",
              "      box-shadow: 0px 1px 3px 1px rgba(0, 0, 0, 0.15);\n",
              "      filter: drop-shadow(0px 1px 2px rgba(0, 0, 0, 0.3));\n",
              "      fill: #FFFFFF;\n",
              "    }\n",
              "  </style>\n",
              "\n",
              "      <script>\n",
              "        const buttonEl =\n",
              "          document.querySelector('#df-73cd46e0-8bcd-4645-ab79-a463a1b1fec0 button.colab-df-convert');\n",
              "        buttonEl.style.display =\n",
              "          google.colab.kernel.accessAllowed ? 'block' : 'none';\n",
              "\n",
              "        async function convertToInteractive(key) {\n",
              "          const element = document.querySelector('#df-73cd46e0-8bcd-4645-ab79-a463a1b1fec0');\n",
              "          const dataTable =\n",
              "            await google.colab.kernel.invokeFunction('convertToInteractive',\n",
              "                                                     [key], {});\n",
              "          if (!dataTable) return;\n",
              "\n",
              "          const docLinkHtml = 'Like what you see? Visit the ' +\n",
              "            '<a target=\"_blank\" href=https://colab.research.google.com/notebooks/data_table.ipynb>data table notebook</a>'\n",
              "            + ' to learn more about interactive tables.';\n",
              "          element.innerHTML = '';\n",
              "          dataTable['output_type'] = 'display_data';\n",
              "          await google.colab.output.renderOutput(dataTable, element);\n",
              "          const docLink = document.createElement('div');\n",
              "          docLink.innerHTML = docLinkHtml;\n",
              "          element.appendChild(docLink);\n",
              "        }\n",
              "      </script>\n",
              "    </div>\n",
              "  </div>\n",
              "  "
            ],
            "text/plain": [
              "Empty DataFrame\n",
              "Columns: [Fit, Composition, Care instructions, Material, Art. No.]\n",
              "Index: []"
            ]
          },
          "metadata": {},
          "execution_count": 413
        }
      ]
    },
    {
      "cell_type": "code",
      "source": [
        "data.head()"
      ],
      "metadata": {
        "colab": {
          "base_uri": "https://localhost:8080/",
          "height": 206
        },
        "id": "jQbhx3AEb50G",
        "outputId": "48717a1e-f7f4-4b79-cbb0-d4d4e0ddc837"
      },
      "execution_count": 414,
      "outputs": [
        {
          "output_type": "execute_result",
          "data": {
            "text/html": [
              "\n",
              "  <div id=\"df-e36ade73-b80d-42cb-a518-8a77fa62c519\">\n",
              "    <div class=\"colab-df-container\">\n",
              "      <div>\n",
              "<style scoped>\n",
              "    .dataframe tbody tr th:only-of-type {\n",
              "        vertical-align: middle;\n",
              "    }\n",
              "\n",
              "    .dataframe tbody tr th {\n",
              "        vertical-align: top;\n",
              "    }\n",
              "\n",
              "    .dataframe thead th {\n",
              "        text-align: right;\n",
              "    }\n",
              "</style>\n",
              "<table border=\"1\" class=\"dataframe\">\n",
              "  <thead>\n",
              "    <tr style=\"text-align: right;\">\n",
              "      <th></th>\n",
              "      <th>product_id</th>\n",
              "      <th>product_category</th>\n",
              "      <th>product_name</th>\n",
              "      <th>product_price</th>\n",
              "      <th>scrapy_datetime</th>\n",
              "    </tr>\n",
              "  </thead>\n",
              "  <tbody>\n",
              "    <tr>\n",
              "      <th>0</th>\n",
              "      <td>1024256001</td>\n",
              "      <td>men_jeans_slim</td>\n",
              "      <td>Slim Jeans</td>\n",
              "      <td>$24.99</td>\n",
              "      <td>2022-03-08 21:17:59</td>\n",
              "    </tr>\n",
              "    <tr>\n",
              "      <th>1</th>\n",
              "      <td>0979945001</td>\n",
              "      <td>men_jeans_loose</td>\n",
              "      <td>Loose Jeans</td>\n",
              "      <td>$39.99</td>\n",
              "      <td>2022-03-08 21:17:59</td>\n",
              "    </tr>\n",
              "    <tr>\n",
              "      <th>2</th>\n",
              "      <td>1008110001</td>\n",
              "      <td>men_jeans_slim</td>\n",
              "      <td>Freefit® Slim Jeans</td>\n",
              "      <td>$64.99</td>\n",
              "      <td>2022-03-08 21:17:59</td>\n",
              "    </tr>\n",
              "    <tr>\n",
              "      <th>3</th>\n",
              "      <td>1027852007</td>\n",
              "      <td>men_jeans_relaxed</td>\n",
              "      <td>Relaxed Denim Joggers</td>\n",
              "      <td>$39.99</td>\n",
              "      <td>2022-03-08 21:17:59</td>\n",
              "    </tr>\n",
              "    <tr>\n",
              "      <th>4</th>\n",
              "      <td>1008549006</td>\n",
              "      <td>men_jeans_regular</td>\n",
              "      <td>Regular Jeans</td>\n",
              "      <td>$24.99</td>\n",
              "      <td>2022-03-08 21:17:59</td>\n",
              "    </tr>\n",
              "  </tbody>\n",
              "</table>\n",
              "</div>\n",
              "      <button class=\"colab-df-convert\" onclick=\"convertToInteractive('df-e36ade73-b80d-42cb-a518-8a77fa62c519')\"\n",
              "              title=\"Convert this dataframe to an interactive table.\"\n",
              "              style=\"display:none;\">\n",
              "        \n",
              "  <svg xmlns=\"http://www.w3.org/2000/svg\" height=\"24px\"viewBox=\"0 0 24 24\"\n",
              "       width=\"24px\">\n",
              "    <path d=\"M0 0h24v24H0V0z\" fill=\"none\"/>\n",
              "    <path d=\"M18.56 5.44l.94 2.06.94-2.06 2.06-.94-2.06-.94-.94-2.06-.94 2.06-2.06.94zm-11 1L8.5 8.5l.94-2.06 2.06-.94-2.06-.94L8.5 2.5l-.94 2.06-2.06.94zm10 10l.94 2.06.94-2.06 2.06-.94-2.06-.94-.94-2.06-.94 2.06-2.06.94z\"/><path d=\"M17.41 7.96l-1.37-1.37c-.4-.4-.92-.59-1.43-.59-.52 0-1.04.2-1.43.59L10.3 9.45l-7.72 7.72c-.78.78-.78 2.05 0 2.83L4 21.41c.39.39.9.59 1.41.59.51 0 1.02-.2 1.41-.59l7.78-7.78 2.81-2.81c.8-.78.8-2.07 0-2.86zM5.41 20L4 18.59l7.72-7.72 1.47 1.35L5.41 20z\"/>\n",
              "  </svg>\n",
              "      </button>\n",
              "      \n",
              "  <style>\n",
              "    .colab-df-container {\n",
              "      display:flex;\n",
              "      flex-wrap:wrap;\n",
              "      gap: 12px;\n",
              "    }\n",
              "\n",
              "    .colab-df-convert {\n",
              "      background-color: #E8F0FE;\n",
              "      border: none;\n",
              "      border-radius: 50%;\n",
              "      cursor: pointer;\n",
              "      display: none;\n",
              "      fill: #1967D2;\n",
              "      height: 32px;\n",
              "      padding: 0 0 0 0;\n",
              "      width: 32px;\n",
              "    }\n",
              "\n",
              "    .colab-df-convert:hover {\n",
              "      background-color: #E2EBFA;\n",
              "      box-shadow: 0px 1px 2px rgba(60, 64, 67, 0.3), 0px 1px 3px 1px rgba(60, 64, 67, 0.15);\n",
              "      fill: #174EA6;\n",
              "    }\n",
              "\n",
              "    [theme=dark] .colab-df-convert {\n",
              "      background-color: #3B4455;\n",
              "      fill: #D2E3FC;\n",
              "    }\n",
              "\n",
              "    [theme=dark] .colab-df-convert:hover {\n",
              "      background-color: #434B5C;\n",
              "      box-shadow: 0px 1px 3px 1px rgba(0, 0, 0, 0.15);\n",
              "      filter: drop-shadow(0px 1px 2px rgba(0, 0, 0, 0.3));\n",
              "      fill: #FFFFFF;\n",
              "    }\n",
              "  </style>\n",
              "\n",
              "      <script>\n",
              "        const buttonEl =\n",
              "          document.querySelector('#df-e36ade73-b80d-42cb-a518-8a77fa62c519 button.colab-df-convert');\n",
              "        buttonEl.style.display =\n",
              "          google.colab.kernel.accessAllowed ? 'block' : 'none';\n",
              "\n",
              "        async function convertToInteractive(key) {\n",
              "          const element = document.querySelector('#df-e36ade73-b80d-42cb-a518-8a77fa62c519');\n",
              "          const dataTable =\n",
              "            await google.colab.kernel.invokeFunction('convertToInteractive',\n",
              "                                                     [key], {});\n",
              "          if (!dataTable) return;\n",
              "\n",
              "          const docLinkHtml = 'Like what you see? Visit the ' +\n",
              "            '<a target=\"_blank\" href=https://colab.research.google.com/notebooks/data_table.ipynb>data table notebook</a>'\n",
              "            + ' to learn more about interactive tables.';\n",
              "          element.innerHTML = '';\n",
              "          dataTable['output_type'] = 'display_data';\n",
              "          await google.colab.output.renderOutput(dataTable, element);\n",
              "          const docLink = document.createElement('div');\n",
              "          docLink.innerHTML = docLinkHtml;\n",
              "          element.appendChild(docLink);\n",
              "        }\n",
              "      </script>\n",
              "    </div>\n",
              "  </div>\n",
              "  "
            ],
            "text/plain": [
              "   product_id   product_category           product_name product_price  \\\n",
              "0  1024256001     men_jeans_slim             Slim Jeans        $24.99   \n",
              "1  0979945001    men_jeans_loose            Loose Jeans        $39.99   \n",
              "2  1008110001     men_jeans_slim    Freefit® Slim Jeans        $64.99   \n",
              "3  1027852007  men_jeans_relaxed  Relaxed Denim Joggers        $39.99   \n",
              "4  1008549006  men_jeans_regular          Regular Jeans        $24.99   \n",
              "\n",
              "       scrapy_datetime  \n",
              "0  2022-03-08 21:17:59  \n",
              "1  2022-03-08 21:17:59  \n",
              "2  2022-03-08 21:17:59  \n",
              "3  2022-03-08 21:17:59  \n",
              "4  2022-03-08 21:17:59  "
            ]
          },
          "metadata": {},
          "execution_count": 414
        }
      ]
    },
    {
      "cell_type": "code",
      "source": [
        "data_raw.head()"
      ],
      "metadata": {
        "colab": {
          "base_uri": "https://localhost:8080/",
          "height": 354
        },
        "id": "7S6wtCfGdxrW",
        "outputId": "e66dfb5e-17b0-47ad-a984-d22daf41e128"
      },
      "execution_count": 419,
      "outputs": [
        {
          "output_type": "execute_result",
          "data": {
            "text/html": [
              "\n",
              "  <div id=\"df-fc6037f3-0c6d-4b7e-aa05-02b575263f8d\">\n",
              "    <div class=\"colab-df-container\">\n",
              "      <div>\n",
              "<style scoped>\n",
              "    .dataframe tbody tr th:only-of-type {\n",
              "        vertical-align: middle;\n",
              "    }\n",
              "\n",
              "    .dataframe tbody tr th {\n",
              "        vertical-align: top;\n",
              "    }\n",
              "\n",
              "    .dataframe thead th {\n",
              "        text-align: right;\n",
              "    }\n",
              "</style>\n",
              "<table border=\"1\" class=\"dataframe\">\n",
              "  <thead>\n",
              "    <tr style=\"text-align: right;\">\n",
              "      <th></th>\n",
              "      <th>product_id</th>\n",
              "      <th>product_category</th>\n",
              "      <th>product_name</th>\n",
              "      <th>product_price</th>\n",
              "      <th>scrapy_datetime</th>\n",
              "      <th>style_id</th>\n",
              "      <th>color_id</th>\n",
              "      <th>Fit</th>\n",
              "      <th>Composition</th>\n",
              "      <th>Care instructions</th>\n",
              "      <th>Material</th>\n",
              "    </tr>\n",
              "  </thead>\n",
              "  <tbody>\n",
              "    <tr>\n",
              "      <th>0</th>\n",
              "      <td>1024256001</td>\n",
              "      <td>men_jeans_slim</td>\n",
              "      <td>Slim Jeans</td>\n",
              "      <td>$24.99</td>\n",
              "      <td>2022-03-08 21:17:59</td>\n",
              "      <td>1024256</td>\n",
              "      <td>001</td>\n",
              "      <td>Slim fit</td>\n",
              "      <td>Pocket lining: Polyester 65%, Cotton 35%</td>\n",
              "      <td>NaN</td>\n",
              "      <td>NaN</td>\n",
              "    </tr>\n",
              "    <tr>\n",
              "      <th>1</th>\n",
              "      <td>1024256001</td>\n",
              "      <td>men_jeans_slim</td>\n",
              "      <td>Slim Jeans</td>\n",
              "      <td>$24.99</td>\n",
              "      <td>2022-03-08 21:17:59</td>\n",
              "      <td>1024256</td>\n",
              "      <td>001</td>\n",
              "      <td>Slim fit</td>\n",
              "      <td>Shell: Cotton 99%, Elastane 1%</td>\n",
              "      <td>NaN</td>\n",
              "      <td>NaN</td>\n",
              "    </tr>\n",
              "    <tr>\n",
              "      <th>2</th>\n",
              "      <td>1024256001</td>\n",
              "      <td>men_jeans_slim</td>\n",
              "      <td>Slim Jeans</td>\n",
              "      <td>$24.99</td>\n",
              "      <td>2022-03-08 21:17:59</td>\n",
              "      <td>1024256</td>\n",
              "      <td>001</td>\n",
              "      <td>Slim fit</td>\n",
              "      <td>Pocket lining: Polyester 65%, Cotton 35%</td>\n",
              "      <td>NaN</td>\n",
              "      <td>NaN</td>\n",
              "    </tr>\n",
              "    <tr>\n",
              "      <th>3</th>\n",
              "      <td>1024256001</td>\n",
              "      <td>men_jeans_slim</td>\n",
              "      <td>Slim Jeans</td>\n",
              "      <td>$24.99</td>\n",
              "      <td>2022-03-08 21:17:59</td>\n",
              "      <td>1024256</td>\n",
              "      <td>001</td>\n",
              "      <td>Slim fit</td>\n",
              "      <td>Shell: Cotton 99%, Elastane 1%</td>\n",
              "      <td>NaN</td>\n",
              "      <td>NaN</td>\n",
              "    </tr>\n",
              "    <tr>\n",
              "      <th>4</th>\n",
              "      <td>1024256001</td>\n",
              "      <td>men_jeans_slim</td>\n",
              "      <td>Slim Jeans</td>\n",
              "      <td>$24.99</td>\n",
              "      <td>2022-03-08 21:17:59</td>\n",
              "      <td>1024256</td>\n",
              "      <td>001</td>\n",
              "      <td>Slim fit</td>\n",
              "      <td>Pocket lining: Polyester 65%, Cotton 35%</td>\n",
              "      <td>NaN</td>\n",
              "      <td>NaN</td>\n",
              "    </tr>\n",
              "  </tbody>\n",
              "</table>\n",
              "</div>\n",
              "      <button class=\"colab-df-convert\" onclick=\"convertToInteractive('df-fc6037f3-0c6d-4b7e-aa05-02b575263f8d')\"\n",
              "              title=\"Convert this dataframe to an interactive table.\"\n",
              "              style=\"display:none;\">\n",
              "        \n",
              "  <svg xmlns=\"http://www.w3.org/2000/svg\" height=\"24px\"viewBox=\"0 0 24 24\"\n",
              "       width=\"24px\">\n",
              "    <path d=\"M0 0h24v24H0V0z\" fill=\"none\"/>\n",
              "    <path d=\"M18.56 5.44l.94 2.06.94-2.06 2.06-.94-2.06-.94-.94-2.06-.94 2.06-2.06.94zm-11 1L8.5 8.5l.94-2.06 2.06-.94-2.06-.94L8.5 2.5l-.94 2.06-2.06.94zm10 10l.94 2.06.94-2.06 2.06-.94-2.06-.94-.94-2.06-.94 2.06-2.06.94z\"/><path d=\"M17.41 7.96l-1.37-1.37c-.4-.4-.92-.59-1.43-.59-.52 0-1.04.2-1.43.59L10.3 9.45l-7.72 7.72c-.78.78-.78 2.05 0 2.83L4 21.41c.39.39.9.59 1.41.59.51 0 1.02-.2 1.41-.59l7.78-7.78 2.81-2.81c.8-.78.8-2.07 0-2.86zM5.41 20L4 18.59l7.72-7.72 1.47 1.35L5.41 20z\"/>\n",
              "  </svg>\n",
              "      </button>\n",
              "      \n",
              "  <style>\n",
              "    .colab-df-container {\n",
              "      display:flex;\n",
              "      flex-wrap:wrap;\n",
              "      gap: 12px;\n",
              "    }\n",
              "\n",
              "    .colab-df-convert {\n",
              "      background-color: #E8F0FE;\n",
              "      border: none;\n",
              "      border-radius: 50%;\n",
              "      cursor: pointer;\n",
              "      display: none;\n",
              "      fill: #1967D2;\n",
              "      height: 32px;\n",
              "      padding: 0 0 0 0;\n",
              "      width: 32px;\n",
              "    }\n",
              "\n",
              "    .colab-df-convert:hover {\n",
              "      background-color: #E2EBFA;\n",
              "      box-shadow: 0px 1px 2px rgba(60, 64, 67, 0.3), 0px 1px 3px 1px rgba(60, 64, 67, 0.15);\n",
              "      fill: #174EA6;\n",
              "    }\n",
              "\n",
              "    [theme=dark] .colab-df-convert {\n",
              "      background-color: #3B4455;\n",
              "      fill: #D2E3FC;\n",
              "    }\n",
              "\n",
              "    [theme=dark] .colab-df-convert:hover {\n",
              "      background-color: #434B5C;\n",
              "      box-shadow: 0px 1px 3px 1px rgba(0, 0, 0, 0.15);\n",
              "      filter: drop-shadow(0px 1px 2px rgba(0, 0, 0, 0.3));\n",
              "      fill: #FFFFFF;\n",
              "    }\n",
              "  </style>\n",
              "\n",
              "      <script>\n",
              "        const buttonEl =\n",
              "          document.querySelector('#df-fc6037f3-0c6d-4b7e-aa05-02b575263f8d button.colab-df-convert');\n",
              "        buttonEl.style.display =\n",
              "          google.colab.kernel.accessAllowed ? 'block' : 'none';\n",
              "\n",
              "        async function convertToInteractive(key) {\n",
              "          const element = document.querySelector('#df-fc6037f3-0c6d-4b7e-aa05-02b575263f8d');\n",
              "          const dataTable =\n",
              "            await google.colab.kernel.invokeFunction('convertToInteractive',\n",
              "                                                     [key], {});\n",
              "          if (!dataTable) return;\n",
              "\n",
              "          const docLinkHtml = 'Like what you see? Visit the ' +\n",
              "            '<a target=\"_blank\" href=https://colab.research.google.com/notebooks/data_table.ipynb>data table notebook</a>'\n",
              "            + ' to learn more about interactive tables.';\n",
              "          element.innerHTML = '';\n",
              "          dataTable['output_type'] = 'display_data';\n",
              "          await google.colab.output.renderOutput(dataTable, element);\n",
              "          const docLink = document.createElement('div');\n",
              "          docLink.innerHTML = docLinkHtml;\n",
              "          element.appendChild(docLink);\n",
              "        }\n",
              "      </script>\n",
              "    </div>\n",
              "  </div>\n",
              "  "
            ],
            "text/plain": [
              "   product_id product_category product_name product_price  \\\n",
              "0  1024256001   men_jeans_slim   Slim Jeans        $24.99   \n",
              "1  1024256001   men_jeans_slim   Slim Jeans        $24.99   \n",
              "2  1024256001   men_jeans_slim   Slim Jeans        $24.99   \n",
              "3  1024256001   men_jeans_slim   Slim Jeans        $24.99   \n",
              "4  1024256001   men_jeans_slim   Slim Jeans        $24.99   \n",
              "\n",
              "       scrapy_datetime style_id color_id       Fit  \\\n",
              "0  2022-03-08 21:17:59  1024256      001  Slim fit   \n",
              "1  2022-03-08 21:17:59  1024256      001  Slim fit   \n",
              "2  2022-03-08 21:17:59  1024256      001  Slim fit   \n",
              "3  2022-03-08 21:17:59  1024256      001  Slim fit   \n",
              "4  2022-03-08 21:17:59  1024256      001  Slim fit   \n",
              "\n",
              "                                Composition Care instructions Material  \n",
              "0  Pocket lining: Polyester 65%, Cotton 35%               NaN      NaN  \n",
              "1            Shell: Cotton 99%, Elastane 1%               NaN      NaN  \n",
              "2  Pocket lining: Polyester 65%, Cotton 35%               NaN      NaN  \n",
              "3            Shell: Cotton 99%, Elastane 1%               NaN      NaN  \n",
              "4  Pocket lining: Polyester 65%, Cotton 35%               NaN      NaN  "
            ]
          },
          "metadata": {},
          "execution_count": 419
        }
      ]
    }
  ]
}